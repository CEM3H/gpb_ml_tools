{
    "cells": [
     {
      "cell_type": "markdown",
      "metadata": {},
      "source": [
       "# Препроцессинг временных рядов\n",
       "\n",
       "В этом ноутбуке мы рассмотрим обработку временных рядов с использованием GPB библиотеки.\n",
       "\n",
       "## Подготовка окружения"
      ]
     },
     {
      "cell_type": "code",
      "execution_count": null,
      "metadata": {},
      "source": [
       "import sys\n",
       "sys.path.append('../../')\n",
       "\n",
       "import pandas as pd\n",
       "import numpy as np\n",
       "from core.data.preprocessing import TimeSeriesPreprocessor"
      ]
     },
     {
      "cell_type": "markdown",
      "metadata": {},
      "source": [
       "## Загрузка тестовых данных"
      ]
     },
     {
      "cell_type": "code",
      "execution_count": null,
      "metadata": {},
      "source": [
       "# Создание тестового временного ряда\n",
       "dates = pd.date_range(start='2023-01-01', end='2023-01-31', freq='D')\n",
       "values = np.random.normal(100, 10, len(dates))\n",
       "\n",
       "data = pd.DataFrame({\n",
       "    'date': dates,\n",
       "    'value': values\n",
       "})\n",
       "\n",
       "print(\"Исходные данные:\")\n",
       "print(data)"
      ]
     },
     {
      "cell_type": "markdown",
      "metadata": {},
      "source": [
       "## Создание препроцессора временных рядов"
      ]
     },
     {
      "cell_type": "code",
      "execution_count": null,
      "metadata": {},
      "source": [
       "# Создание препроцессора\n",
       "preprocessor = TimeSeriesPreprocessor()"
      ]
     },
     {
      "cell_type": "markdown",
      "metadata": {},
      "source": [
       "## Обработка пропущенных значений"
      ]
     },
     {
      "cell_type": "code",
      "execution_count": null,
      "metadata": {},
      "source": [
       "# Заполнение пропущенных значений\n",
       "filled_data = preprocessor.fill_missing_values(\n",
       "    data,\n",
       "    time_column='date',\n",
       "    value_column='value',\n",
       "    method='linear'  # Линейная интерполяция\n",
       ")\n",
       "\n",
       "print(\"Данные после заполнения пропущенных значений:\")\n",
       "print(filled_data)"
      ]
     },
     {
      "cell_type": "markdown",
      "metadata": {},
      "source": [
       "## Извлечение временных признаков"
      ]
     },
     {
      "cell_type": "code",
      "execution_count": null,
      "metadata": {},
      "source": [
       "# Извлечение признаков\n",
       "features = preprocessor.extract_time_features(\n",
       "    filled_data,\n",
       "    time_column='date',\n",
       "    features=['year', 'month', 'day', 'dayofweek', 'is_weekend']\n",
       ")\n",
       "\n",
       "print(\"Данные с временными признаками:\")\n",
       "print(features)"
      ]
     },
     {
      "cell_type": "markdown",
      "metadata": {},
      "source": [
       "## Создание лагов"
      ]
     },
     {
      "cell_type": "code",
      "execution_count": null,
      "metadata": {},
      "source": [
       "# Создание лагов\n",
       "lagged_data = preprocessor.create_lags(\n",
       "    features,\n",
       "    value_column='value',\n",
       "    lags=[1, 2, 3, 7]  # Лаги за 1, 2, 3 и 7 дней\n",
       ")\n",
       "\n",
       "print(\"Данные с лагами:\")\n",
       "print(lagged_data)"
      ]
     },
     {
      "cell_type": "markdown",
      "metadata": {},
      "source": [
       "## Создание скользящих статистик"
      ]
     },
     {
      "cell_type": "code",
      "execution_count": null,
      "metadata": {},
      "source": [
       "# Создание скользящих статистик\n",
       "rolling_stats = preprocessor.create_rolling_features(\n",
       "    lagged_data,\n",
       "    value_column='value',\n",
       "    windows=[3, 7, 14],  # Окна в днях\n",
       "    stats=['mean', 'std', 'min', 'max']\n",
       ")\n",
       "\n",
       "print(\"Данные со скользящими статистиками:\")\n",
       "print(rolling_stats)"
      ]
     },
     {
      "cell_type": "markdown",
      "metadata": {},
      "source": [
       "## Масштабирование данных"
      ]
     },
     {
      "cell_type": "code",
      "execution_count": null,
      "metadata": {},
      "source": [
       "# Масштабирование\n",
       "scaled_data = preprocessor.scale(\n",
       "    rolling_stats,\n",
       "    columns=['value', 'value_lag_1', 'value_lag_2', 'value_lag_3', 'value_lag_7'],\n",
       "    method='standard'  # Стандартизация\n",
       ")\n",
       "\n",
       "print(\"Данные после масштабирования:\")\n",
       "print(scaled_data)"
      ]
     },
     {
      "cell_type": "markdown",
      "metadata": {},
      "source": [
       "## Сохранение препроцессора"
      ]
     },
     {
      "cell_type": "code",
      "execution_count": null,
      "metadata": {},
      "source": [
       "# Сохранение препроцессора\n",
       "preprocessor.save('models/time_series_preprocessor.pkl')\n",
       "print(\"Препроцессор временных рядов успешно сохранен\")"
      ]
     }
    ],
    "metadata": {
     "kernelspec": {
      "display_name": "Python 3",
      "language": "python",
      "name": "python3"
     },
     "language_info": {
      "codemirror_mode": {
       "name": "ipython",
       "version": 3
      },
      "file_extension": ".py",
      "mimetype": "text/x-python",
      "name": "python",
      "nbconvert_exporter": "python",
      "pygments_lexer": "ipython3",
      "version": "3.8.0"
     }
    },
    "nbformat": 4,
    "nbformat_minor": 4
   }