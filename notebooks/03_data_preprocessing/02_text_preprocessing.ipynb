{
    "cells": [
     {
      "cell_type": "markdown",
      "metadata": {},
      "source": [
       "# Препроцессинг текстовых данных\n",
       "\n",
       "В этом ноутбуке мы рассмотрим обработку текстовых данных с использованием GPB библиотеки.\n",
       "\n",
       "## Подготовка окружения"
      ]
     },
     {
      "cell_type": "code",
      "execution_count": null,
      "metadata": {},
      "source": [
       "import sys\n",
       "sys.path.append('../../')\n",
       "\n",
       "import pandas as pd\n",
       "import numpy as np\n",
       "from core.data.preprocessing import TextPreprocessor"
      ]
     },
     {
      "cell_type": "markdown",
      "metadata": {},
      "source": [
       "## Загрузка тестовых данных"
      ]
     },
     {
      "cell_type": "code",
      "execution_count": null,
      "metadata": {},
      "source": [
       "# Создание тестового датафрейма\n",
       "data = pd.DataFrame({\n",
       "    'id': [1, 2, 3, 4, 5],\n",
       "    'text': [\n",
       "        'This is a sample text with some numbers 123 and special characters !@#',\n",
       "        'Another example of text with UPPERCASE and lowercase words',\n",
       "        'Text with multiple   spaces and\\nnewlines',\n",
       "        'Text with HTML tags <p>Hello</p> and URLs https://example.com',\n",
       "        'Text with emojis 😊 and mentions @user'\n",
       "    ]\n",
       "})\n",
       "\n",
       "print(\"Исходные данные:\")\n",
       "print(data)"
      ]
     },
     {
      "cell_type": "markdown",
      "metadata": {},
      "source": [
       "## Создание текстового препроцессора"
      ]
     },
     {
      "cell_type": "code",
      "execution_count": null,
      "metadata": {},
      "source": [
       "# Создание препроцессора\n",
       "preprocessor = TextPreprocessor()"
      ]
     },
     {
      "cell_type": "markdown",
      "metadata": {},
      "source": [
       "## Базовая очистка текста"
      ]
     },
     {
      "cell_type": "code",
      "execution_count": null,
      "metadata": {},
      "source": [
       "# Очистка текста\n",
       "cleaned_text = preprocessor.clean_text(\n",
       "    data['text'],\n",
       "    remove_numbers=True,\n",
       "    remove_special_chars=True,\n",
       "    remove_extra_spaces=True,\n",
       "    remove_html=True,\n",
       "    remove_urls=True,\n",
       "    remove_mentions=True,\n",
       "    remove_emojis=True\n",
       ")\n",
       "\n",
       "print(\"Текст после очистки:\")\n",
       "print(cleaned_text)"
      ]
     },
     {
      "cell_type": "markdown",
      "metadata": {},
      "source": [
       "## Токенизация"
      ]
     },
     {
      "cell_type": "code",
      "execution_count": null,
      "metadata": {},
      "source": [
       "# Токенизация\n",
       "tokens = preprocessor.tokenize(\n",
       "    cleaned_text,\n",
       "    lowercase=True,\n",
       "    remove_punctuation=True\n",
       ")\n",
       "\n",
       "print(\"Токены:\")\n",
       "print(tokens)"
      ]
     },
     {
      "cell_type": "markdown",
      "metadata": {},
      "source": [
       "## Удаление стоп-слов"
      ]
     },
     {
      "cell_type": "code",
      "execution_count": null,
      "metadata": {},
      "source": [
       "# Удаление стоп-слов\n",
       "filtered_tokens = preprocessor.remove_stopwords(\n",
       "    tokens,\n",
       "    language='english'\n",
       ")\n",
       "\n",
       "print(\"Токены после удаления стоп-слов:\")\n",
       "print(filtered_tokens)"
      ]
     },
     {
      "cell_type": "markdown",
      "metadata": {},
      "source": [
       "## Стемминг и лемматизация"
      ]
     },
     {
      "cell_type": "code",
      "execution_count": null,
      "metadata": {},
      "source": [
       "# Стемминг\n",
       "stemmed_tokens = preprocessor.stem(\n",
       "    filtered_tokens,\n",
       "    language='english'\n",
       ")\n",
       "\n",
       "print(\"Токены после стемминга:\")\n",
       "print(stemmed_tokens)\n",
       "\n",
       "# Лемматизация\n",
       "lemmatized_tokens = preprocessor.lemmatize(\n",
       "    filtered_tokens,\n",
       "    language='english'\n",
       ")\n",
       "\n",
       "print(\"Токены после лемматизации:\")\n",
       "print(lemmatized_tokens)"
      ]
     },
     {
      "cell_type": "markdown",
      "metadata": {},
      "source": [
       "## Векторизация текста"
      ]
     },
     {
      "cell_type": "code",
      "execution_count": null,
      "metadata": {},
      "source": [
       "# TF-IDF векторизация\n",
       "tfidf_vectors = preprocessor.tfidf_vectorize(\n",
       "    lemmatized_tokens,\n",
       "    max_features=1000\n",
       ")\n",
       "\n",
       "print(\"TF-IDF векторы:\")\n",
       "print(tfidf_vectors.toarray())"
      ]
     },
     {
      "cell_type": "markdown",
      "metadata": {},
      "source": [
       "## Сохранение препроцессора"
      ]
     },
     {
      "cell_type": "code",
      "execution_count": null,
      "metadata": {},
      "source": [
       "# Сохранение препроцессора\n",
       "preprocessor.save('models/text_preprocessor.pkl')\n",
       "print(\"Текстовый препроцессор успешно сохранен\")"
      ]
     }
    ],
    "metadata": {
     "kernelspec": {
      "display_name": "Python 3",
      "language": "python",
      "name": "python3"
     },
     "language_info": {
      "codemirror_mode": {
       "name": "ipython",
       "version": 3
      },
      "file_extension": ".py",
      "mimetype": "text/x-python",
      "name": "python",
      "nbconvert_exporter": "python",
      "pygments_lexer": "ipython3",
      "version": "3.8.0"
     }
    },
    "nbformat": 4,
    "nbformat_minor": 4
   }