{
 "cells": [
  {
   "cell_type": "markdown",
   "metadata": {},
   "source": [
    "# Базовый препроцессинг данных\n",
    "\n",
    "В этом ноутбуке мы рассмотрим базовые операции препроцессинга данных с использованием GPB библиотеки.\n",
    "\n",
    "## Подготовка окружения"
   ]
  },
  {
   "cell_type": "code",
   "execution_count": null,
   "metadata": {},
   "outputs": [],
   "source": [
    "import sys\n",
    "sys.path.append('../../')\n",
    "\n",
    "import pandas as pd\n",
    "import numpy as np\n",
    "from core.data.preprocessing import DataPreprocessor"
   ]
  },
  {
   "cell_type": "markdown",
   "metadata": {},
   "source": [
    "## Загрузка тестовых данных"
   ]
  },
  {
   "cell_type": "code",
   "execution_count": null,
   "metadata": {},
   "outputs": [],
   "source": [
    "# Создание тестового датафрейма\n",
    "data = pd.DataFrame({\n",
    "    'id': [1, 2, 3, 4, 5],\n",
    "    'name': ['John', 'Alice', 'Bob', None, 'Eve'],\n",
    "    'age': [25, None, 30, 35, 40],\n",
    "    'salary': [50000, 60000, None, 70000, 80000],\n",
    "    'department': ['IT', 'HR', 'IT', 'Sales', None],\n",
    "    'date': ['2023-01-01', '2023-01-02', '2023-01-03', None, '2023-01-05']\n",
    "})\n",
    "\n",
    "print(\"Исходные данные:\")\n",
    "print(data)"
   ]
  },
  {
   "cell_type": "markdown",
   "metadata": {},
   "source": [
    "## Создание препроцессора"
   ]
  },
  {
   "cell_type": "code",
   "execution_count": null,
   "metadata": {},
   "outputs": [],
   "source": [
    "# Создание препроцессора\n",
    "preprocessor = DataPreprocessor()"
   ]
  },
  {
   "cell_type": "markdown",
   "metadata": {},
   "source": [
    "## Обработка пропущенных значений"
   ]
  },
  {
   "cell_type": "code",
   "execution_count": null,
   "metadata": {},
   "outputs": [],
   "source": [
    "# Заполнение пропущенных значений\n",
    "filled_data = preprocessor.fill_missing_values(\n",
    "    data,\n",
    "    strategy='mean',  # Для числовых колонок\n",
    "    categorical_strategy='most_frequent'  # Для категориальных колонок\n",
    ")\n",
    "\n",
    "print(\"Данные после заполнения пропущенных значений:\")\n",
    "print(filled_data)"
   ]
  },
  {
   "cell_type": "markdown",
   "metadata": {},
   "source": [
    "## Кодирование категориальных признаков"
   ]
  },
  {
   "cell_type": "code",
   "execution_count": null,
   "metadata": {},
   "outputs": [],
   "source": [
    "# One-Hot кодирование\n",
    "encoded_data = preprocessor.one_hot_encode(\n",
    "    filled_data,\n",
    "    columns=['department']\n",
    ")\n",
    "\n",
    "print(\"Данные после One-Hot кодирования:\")\n",
    "print(encoded_data)"
   ]
  },
  {
   "cell_type": "markdown",
   "metadata": {},
   "source": [
    "## Масштабирование числовых признаков"
   ]
  },
  {
   "cell_type": "code",
   "execution_count": null,
   "metadata": {},
   "outputs": [],
   "source": [
    "# Стандартизация\n",
    "scaled_data = preprocessor.standardize(\n",
    "    encoded_data,\n",
    "    columns=['age', 'salary']\n",
    ")\n",
    "\n",
    "print(\"Данные после стандартизации:\")\n",
    "print(scaled_data)"
   ]
  },
  {
   "cell_type": "markdown",
   "metadata": {},
   "source": [
    "## Преобразование дат"
   ]
  },
  {
   "cell_type": "code",
   "execution_count": null,
   "metadata": {},
   "outputs": [],
   "source": [
    "# Преобразование дат\n",
    "date_features = preprocessor.extract_date_features(\n",
    "    scaled_data,\n",
    "    column='date',\n",
    "    features=['year', 'month', 'day', 'dayofweek']\n",
    ")\n",
    "\n",
    "print(\"Данные после извлечения признаков из даты:\")\n",
    "print(date_features)"
   ]
  },
  {
   "cell_type": "markdown",
   "metadata": {},
   "source": [
    "## Сохранение препроцессора"
   ]
  },
  {
   "cell_type": "code",
   "execution_count": null,
   "metadata": {},
   "outputs": [],
   "source": [
    "# Сохранение препроцессора\n",
    "preprocessor.save('models/preprocessor.pkl')\n",
    "print(\"Препроцессор успешно сохранен\")"
   ]
  }
 ],
 "metadata": {
  "kernelspec": {
   "display_name": "Python 3",
   "language": "python",
   "name": "python3"
  },
  "language_info": {
   "codemirror_mode": {
    "name": "ipython",
    "version": 3
   },
   "file_extension": ".py",
   "mimetype": "text/x-python",
   "name": "python",
   "nbconvert_exporter": "python",
   "pygments_lexer": "ipython3",
   "version": "3.8.0"
  }
 },
 "nbformat": 4,
 "nbformat_minor": 4
}
