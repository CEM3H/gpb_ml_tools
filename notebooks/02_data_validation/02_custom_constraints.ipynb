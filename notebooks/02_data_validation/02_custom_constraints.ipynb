{
    "cells": [
     {
      "cell_type": "markdown",
      "metadata": {},
      "source": [
       "# Пользовательские ограничения для валидации данных\n",
       "\n",
       "В этом ноутбуке мы рассмотрим создание и использование пользовательских ограничений для валидации данных.\n",
       "\n",
       "## Подготовка окружения"
      ]
     },
     {
      "cell_type": "code",
      "execution_count": null,
      "metadata": {},
      "source": [
       "import sys\n",
       "sys.path.append('../../')\n",
       "\n",
       "import pandas as pd\n",
       "import numpy as np\n",
       "from core.data.schema import DataSchema, ColumnSchema, DataType\n",
       "from core.data.validation import SchemaValidator"
      ]
     },
     {
      "cell_type": "markdown",
      "metadata": {},
      "source": [
       "## Создание схемы с пользовательскими ограничениями"
      ]
     },
     {
      "cell_type": "code",
      "execution_count": null,
      "metadata": {},
      "source": [
       "# Создание схемы данных с пользовательскими ограничениями\n",
       "schema = DataSchema([\n",
       "    ColumnSchema(\n",
       "        name='id',\n",
       "        data_type=DataType.INTEGER,\n",
       "        required=True,\n",
       "        constraints={\n",
       "            'unique': True,\n",
       "            'positive': True  # Пользовательское ограничение\n",
       "        }\n",
       "    ),\n",
       "    ColumnSchema(\n",
       "        name='name',\n",
       "        data_type=DataType.STRING,\n",
       "        required=True,\n",
       "        constraints={\n",
       "            'min_length': 2,  # Пользовательское ограничение\n",
       "            'max_length': 50  # Пользовательское ограничение\n",
       "        }\n",
       "    ),\n",
       "    ColumnSchema(\n",
       "        name='age',\n",
       "        data_type=DataType.INTEGER,\n",
       "        required=True,\n",
       "        constraints={\n",
       "            'min': 0,\n",
       "            'max': 150,\n",
       "            'even': True  # Пользовательское ограничение\n",
       "        }\n",
       "    ),\n",
       "    ColumnSchema(\n",
       "        name='salary',\n",
       "        data_type=DataType.FLOAT,\n",
       "        required=True,\n",
       "        constraints={\n",
       "            'min': 0,\n",
       "            'max': 1000000,\n",
       "            'multiple_of': 1000  # Пользовательское ограничение\n",
       "        }\n",
       "    )\n",
       "])"
      ]
     },
     {
      "cell_type": "markdown",
      "metadata": {},
      "source": [
       "## Создание валидатора с пользовательскими проверками"
      ]
     },
     {
      "cell_type": "code",
      "execution_count": null,
      "metadata": {},
      "source": [
       "class CustomSchemaValidator(SchemaValidator):\n",
       "    def _validate_integer(self, series: pd.Series, schema: ColumnSchema) -> None:\n",
       "        super()._validate_integer(series, schema)\n",
       "        \n",
       "        # Проверка на положительные числа\n",
       "        if schema.constraints.get('positive', False):\n",
       "            if (series <= 0).any():\n",
       "                raise ValueError(f\"Колонка {schema.name} должна содержать только положительные числа\")\n",
       "        \n",
       "        # Проверка на четные числа\n",
       "        if schema.constraints.get('even', False):\n",
       "            if (series % 2 != 0).any():\n",
       "                raise ValueError(f\"Колонка {schema.name} должна содержать только четные числа\")\n",
       "\n",
       "    def _validate_string(self, series: pd.Series, schema: ColumnSchema) -> None:\n",
       "        super()._validate_string(series, schema)\n",
       "        \n",
       "        # Проверка длины строки\n",
       "        min_length = schema.constraints.get('min_length')\n",
       "        max_length = schema.constraints.get('max_length')\n",
       "        \n",
       "        if min_length is not None:\n",
       "            if (series.str.len() < min_length).any():\n",
       "                raise ValueError(f\"Колонка {schema.name} должна содержать строки длиной не менее {min_length} символов\")\n",
       "        \n",
       "        if max_length is not None:\n",
       "            if (series.str.len() > max_length).any():\n",
       "                raise ValueError(f\"Колонка {schema.name} должна содержать строки длиной не более {max_length} символов\")\n",
       "\n",
       "    def _validate_float(self, series: pd.Series, schema: ColumnSchema) -> None:\n",
       "        super()._validate_float(series, schema)\n",
       "        \n",
       "        # Проверка на кратность\n",
       "        multiple_of = schema.constraints.get('multiple_of')\n",
       "        if multiple_of is not None:\n",
       "            if (series % multiple_of != 0).any():\n",
       "                raise ValueError(f\"Колонка {schema.name} должна содержать числа, кратные {multiple_of}\")"
      ]
     },
     {
      "cell_type": "markdown",
      "metadata": {},
      "source": [
       "## Подготовка тестовых данных"
      ]
     },
     {
      "cell_type": "code",
      "execution_count": null,
      "metadata": {},
      "source": [
       "# Создание корректных данных\n",
       "valid_data = pd.DataFrame({\n",
       "    'id': [1, 2, 3],\n",
       "    'name': ['John', 'Jane', 'Bob'],\n",
       "    'age': [20, 30, 40],\n",
       "    'salary': [1000, 2000, 3000]\n",
       "})\n",
       "\n",
       "# Создание некорректных данных\n",
       "invalid_data = pd.DataFrame({\n",
       "    'id': [-1, 2, 3],  # Отрицательный id\n",
       "    'name': ['J', 'Jane', 'Bob'],  # Слишком короткое имя\n",
       "    'age': [21, 30, 41],  # Нечетные числа\n",
       "    'salary': [1500, 2000, 3500]  # Не кратны 1000\n",
       "})"
      ]
     },
     {
      "cell_type": "markdown",
      "metadata": {},
      "source": [
       "## Создание и использование валидатора"
      ]
     },
     {
      "cell_type": "code",
      "execution_count": null,
      "metadata": {},
      "source": [
       "# Создание валидатора\n",
       "validator = CustomSchemaValidator(schema)\n",
       "\n",
       "# Валидация корректных данных\n",
       "try:\n",
       "    validator.validate(valid_data)\n",
       "    print(\"Данные успешно валидированы\")\n",
       "except ValueError as e:\n",
       "    print(f\"Ошибка валидации: {e}\")\n",
       "\n",
       "# Валидация некорректных данных\n",
       "try:\n",
       "    validator.validate(invalid_data)\n",
       "except ValueError as e:\n",
       "    print(f\"Ошибка валидации: {e}\")"
      ]
     },
     {
      "cell_type": "markdown",
      "metadata": {},
      "source": [
       "## Валидация отдельных ограничений"
      ]
     },
     {
      "cell_type": "code",
      "execution_count": null,
      "metadata": {},
      "source": [
       "# Проверка ограничения на положительные числа\n",
       "try:\n",
       "    validator._validate_integer(invalid_data['id'], schema.get_column_info('id'))\n",
       "except ValueError as e:\n",
       "    print(f\"Ошибка валидации id: {e}\")\n",
       "\n",
       "# Проверка ограничения на длину строки\n",
       "try:\n",
       "    validator._validate_string(invalid_data['name'], schema.get_column_info('name'))\n",
       "except ValueError as e:\n",
       "    print(f\"Ошибка валидации имени: {e}\")\n",
       "\n",
       "# Проверка ограничения на четность\n",
       "try:\n",
       "    validator._validate_integer(invalid_data['age'], schema.get_column_info('age'))\n",
       "except ValueError as e:\n",
       "    print(f\"Ошибка валидации возраста: {e}\")\n",
       "\n",
       "# Проверка ограничения на кратность\n",
       "try:\n",
       "    validator._validate_float(invalid_data['salary'], schema.get_column_info('salary'))\n",
       "except ValueError as e:\n",
       "    print(f\"Ошибка валидации зарплаты: {e}\")"
      ]
     }
    ],
    "metadata": {
     "kernelspec": {
      "display_name": "Python 3",
      "language": "python",
      "name": "python3"
     },
     "language_info": {
      "codemirror_mode": {
       "name": "ipython",
       "version": 3
      },
      "file_extension": ".py",
      "mimetype": "text/x-python",
      "name": "python",
      "nbconvert_exporter": "python",
      "pygments_lexer": "ipython3",
      "version": "3.8.0"
     }
    },
    "nbformat": 4,
    "nbformat_minor": 4
   }


