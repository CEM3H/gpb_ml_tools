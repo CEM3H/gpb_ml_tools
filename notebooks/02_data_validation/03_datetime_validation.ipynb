{
    "cells": [
     {
      "cell_type": "markdown",
      "metadata": {},
      "source": [
       "# Валидация дат и временных рядов\n",
       "\n",
       "В этом ноутбуке мы рассмотрим валидацию дат и временных рядов с использованием различных ограничений.\n",
       "\n",
       "## Подготовка окружения"
      ]
     },
     {
      "cell_type": "code",
      "execution_count": null,
      "metadata": {},
      "source": [
       "import sys\n",
       "sys.path.append('../../')\n",
       "\n",
       "import pandas as pd\n",
       "import numpy as np\n",
       "from datetime import datetime, timedelta\n",
       "from core.data.schema import DataSchema, ColumnSchema, DataType\n",
       "from core.data.validation import SchemaValidator"
      ]
     },
     {
      "cell_type": "markdown",
      "metadata": {},
      "source": [
       "## Создание схемы с временными ограничениями"
      ]
     },
     {
      "cell_type": "code",
      "execution_count": null,
      "metadata": {},
      "source": [
       "# Создание схемы данных с временными ограничениями\n",
       "schema = DataSchema([\n",
       "    ColumnSchema(\n",
       "        name='id',\n",
       "        data_type=DataType.INTEGER,\n",
       "        required=True,\n",
       "        constraints={\n",
       "            'unique': True\n",
       "        }\n",
       "    ),\n",
       "    ColumnSchema(\n",
       "        name='created_at',\n",
       "        data_type=DataType.DATETIME,\n",
       "        required=True,\n",
       "        constraints={\n",
       "            'min': '2020-01-01',\n",
       "            'max': '2023-12-31',\n",
       "            'format': '%Y-%m-%d %H:%M:%S'\n",
       "        }\n",
       "    ),\n",
       "    ColumnSchema(\n",
       "        name='updated_at',\n",
       "        data_type=DataType.DATETIME,\n",
       "        required=True,\n",
       "        constraints={\n",
       "            'min': '2020-01-01',\n",
       "            'max': '2023-12-31',\n",
       "            'format': '%Y-%m-%d %H:%M:%S',\n",
       "            'after': 'created_at'  # Пользовательское ограничение\n",
       "        }\n",
       "    ),\n",
       "    ColumnSchema(\n",
       "        name='value',\n",
       "        data_type=DataType.FLOAT,\n",
       "        required=True,\n",
       "        constraints={\n",
       "            'min': 0,\n",
       "            'max': 1000\n",
       "        }\n",
       "    )\n",
       "])"
      ]
     },
     {
      "cell_type": "markdown",
      "metadata": {},
      "source": [
       "## Создание валидатора с временными проверками"
      ]
     },
     {
      "cell_type": "code",
      "execution_count": null,
      "metadata": {},
      "source": [
       "class DateTimeSchemaValidator(SchemaValidator):\n",
       "    def _validate_datetime(self, series: pd.Series, schema: ColumnSchema) -> None:\n",
       "        super()._validate_datetime(series, schema)\n",
       "        \n",
       "        # Проверка на формат даты\n",
       "        format_str = schema.constraints.get('format')\n",
       "        if format_str:\n",
       "            try:\n",
       "                pd.to_datetime(series, format=format_str)\n",
       "            except ValueError as e:\n",
       "                raise ValueError(f\"Колонка {schema.name} должна соответствовать формату {format_str}\")\n",
       "        \n",
       "        # Проверка на минимальную дату\n",
       "        min_date = schema.constraints.get('min')\n",
       "        if min_date:\n",
       "            min_date = pd.to_datetime(min_date)\n",
       "            if (series < min_date).any():\n",
       "                raise ValueError(f\"Колонка {schema.name} должна содержать даты не ранее {min_date}\")\n",
       "        \n",
       "        # Проверка на максимальную дату\n",
       "        max_date = schema.constraints.get('max')\n",
       "        if max_date:\n",
       "            max_date = pd.to_datetime(max_date)\n",
       "            if (series > max_date).any():\n",
       "                raise ValueError(f\"Колонка {schema.name} должна содержать даты не позднее {max_date}\")\n",
       "        \n",
       "        # Проверка на последовательность дат\n",
       "        if schema.constraints.get('after'):\n",
       "            after_column = schema.constraints['after']\n",
       "            if after_column not in self.data.columns:\n",
       "                raise ValueError(f\"Колонка {after_column} не найдена в схеме\")\n",
       "            \n",
       "            after_series = self.data[after_column]\n",
       "            if (series <= after_series).any():\n",
       "                raise ValueError(f\"Колонка {schema.name} должна содержать даты позже, чем в колонке {after_column}\")"
      ]
     },
     {
      "cell_type": "markdown",
      "metadata": {},
      "source": [
       "## Подготовка тестовых данных"
      ]
     },
     {
      "cell_type": "code",
      "execution_count": null,
      "metadata": {},
      "source": [
       "# Создание корректных данных\n",
       "valid_data = pd.DataFrame({\n",
       "    'id': [1, 2, 3],\n",
       "    'created_at': [\n",
       "        '2023-01-01 10:00:00',\n",
       "        '2023-01-02 11:00:00',\n",
       "        '2023-01-03 12:00:00'\n",
       "    ],\n",
       "    'updated_at': [\n",
       "        '2023-01-01 11:00:00',\n",
       "        '2023-01-02 12:00:00',\n",
       "        '2023-01-03 13:00:00'\n",
       "    ],\n",
       "    'value': [100, 200, 300]\n",
       "})\n",
       "\n",
       "# Создание некорректных данных\n",
       "invalid_data = pd.DataFrame({\n",
       "    'id': [1, 2, 3],\n",
       "    'created_at': [\n",
       "        '2019-01-01 10:00:00',  # Дата до минимальной\n",
       "        '2023-01-02 11:00:00',\n",
       "        '2024-01-03 12:00:00'   # Дата после максимальной\n",
       "    ],\n",
       "    'updated_at': [\n",
       "        '2023-01-01 09:00:00',  # Дата до created_at\n",
       "        '2023-01-02 12:00:00',\n",
       "        '2023-01-03 13:00:00'\n",
       "    ],\n",
       "    'value': [100, 200, 300]\n",
       "})"
      ]
     },
     {
      "cell_type": "markdown",
      "metadata": {},
      "source": [
       "## Создание и использование валидатора"
      ]
     },
     {
      "cell_type": "code",
      "execution_count": null,
      "metadata": {},
      "source": [
       "# Создание валидатора\n",
       "validator = DateTimeSchemaValidator(schema)\n",
       "\n",
       "# Валидация корректных данных\n",
       "try:\n",
       "    validator.validate(valid_data)\n",
       "    print(\"Данные успешно валидированы\")\n",
       "except ValueError as e:\n",
       "    print(f\"Ошибка валидации: {e}\")\n",
       "\n",
       "# Валидация некорректных данных\n",
       "try:\n",
       "    validator.validate(invalid_data)\n",
       "except ValueError as e:\n",
       "    print(f\"Ошибка валидации: {e}\")"
      ]
     },
     {
      "cell_type": "markdown",
      "metadata": {},
      "source": [
       "## Валидация временных рядов"
      ]
     },
     {
      "cell_type": "code",
      "execution_count": null,
      "metadata": {},
      "source": [
       "# Создание временного ряда\n",
       "dates = pd.date_range(start='2023-01-01', end='2023-01-10', freq='D')\n",
       "values = np.random.normal(100, 10, len(dates))\n",
       "\n",
       "time_series = pd.DataFrame({\n",
       "    'date': dates,\n",
       "    'value': values\n",
       "})\n",
       "\n",
       "# Проверка на пропущенные даты\n",
       "date_diffs = time_series['date'].diff()\n",
       "if date_diffs.nunique() > 1:\n",
       "    print(\"Временной ряд содержит пропущенные даты\")\n",
       "else:\n",
       "    print(\"Временной ряд непрерывный\")\n",
       "\n",
       "# Проверка на выбросы\n",
       "z_scores = np.abs((time_series['value'] - time_series['value'].mean()) / time_series['value'].std())\n",
       "outliers = time_series[z_scores > 3]\n",
       "if not outliers.empty:\n",
       "    print(\"Обнаружены выбросы:\")\n",
       "    print(outliers)\n",
       "else:\n",
       "    print(\"Выбросов не обнаружено\")"
      ]
     }
    ],
    "metadata": {
     "kernelspec": {
      "display_name": "Python 3",
      "language": "python",
      "name": "python3"
     },
     "language_info": {
      "codemirror_mode": {
       "name": "ipython",
       "version": 3
      },
      "file_extension": ".py",
      "mimetype": "text/x-python",
      "name": "python",
      "nbconvert_exporter": "python",
      "pygments_lexer": "ipython3",
      "version": "3.8.0"
     }
    },
    "nbformat": 4,
    "nbformat_minor": 4
   }


