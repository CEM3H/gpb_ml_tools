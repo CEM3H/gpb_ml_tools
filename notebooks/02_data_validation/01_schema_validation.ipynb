{
    "cells": [
     {
      "cell_type": "markdown",
      "metadata": {},
      "source": [
       "# Базовая валидация схемы данных\n",
       "\n",
       "В этом ноутбуке мы рассмотрим основные возможности валидации данных с использованием схемы.\n",
       "\n",
       "## Подготовка окружения"
      ]
     },
     {
      "cell_type": "code",
      "execution_count": null,
      "metadata": {},
      "source": [
       "import sys\n",
       "sys.path.append('../../')\n",
       "\n",
       "import pandas as pd\n",
       "import numpy as np\n",
       "from core.data.schema import DataSchema, ColumnSchema, DataType\n",
       "from core.data.validation import SchemaValidator"
      ]
     },
     {
      "cell_type": "markdown",
      "metadata": {},
      "source": [
       "## Создание схемы данных"
      ]
     },
     {
      "cell_type": "code",
      "execution_count": null,
      "metadata": {},
      "source": [
       "# Создание схемы данных\n",
       "schema = DataSchema([\n",
       "    ColumnSchema(\n",
       "        name='id',\n",
       "        data_type=DataType.INTEGER,\n",
       "        required=True,\n",
       "        constraints={\n",
       "            'unique': True,\n",
       "            'min': 1\n",
       "        }\n",
       "    ),\n",
       "    ColumnSchema(\n",
       "        name='name',\n",
       "        data_type=DataType.STRING,\n",
       "        required=True,\n",
       "        constraints={\n",
       "            'pattern': r'^[A-Za-z\\s]+$'\n",
       "        }\n",
       "    ),\n",
       "    ColumnSchema(\n",
       "        name='age',\n",
       "        data_type=DataType.INTEGER,\n",
       "        required=True,\n",
       "        constraints={\n",
       "            'min': 0,\n",
       "            'max': 150\n",
       "        }\n",
       "    ),\n",
       "    ColumnSchema(\n",
       "        name='email',\n",
       "        data_type=DataType.STRING,\n",
       "        required=True,\n",
       "        constraints={\n",
       "            'pattern': r'^[a-zA-Z0-9._%+-]+@[a-zA-Z0-9.-]+\\.[a-zA-Z]{2,}$'\n",
       "        }\n",
       "    ),\n",
       "    ColumnSchema(\n",
       "        name='status',\n",
       "        data_type=DataType.CATEGORICAL,\n",
       "        required=True,\n",
       "        constraints={\n",
       "            'categories': ['active', 'inactive', 'pending']\n",
       "        }\n",
       "    )\n",
       "])"
      ]
     },
     {
      "cell_type": "markdown",
      "metadata": {},
      "source": [
       "## Подготовка тестовых данных"
      ]
     },
     {
      "cell_type": "code",
      "execution_count": null,
      "metadata": {},
      "source": [
       "# Создание корректных данных\n",
       "valid_data = pd.DataFrame({\n",
       "    'id': [1, 2, 3],\n",
       "    'name': ['John Doe', 'Jane Smith', 'Bob Wilson'],\n",
       "    'age': [25, 30, 35],\n",
       "    'email': ['john@example.com', 'jane@example.com', 'bob@example.com'],\n",
       "    'status': ['active', 'inactive', 'pending']\n",
       "})\n",
       "\n",
       "# Создание некорректных данных\n",
       "invalid_data = pd.DataFrame({\n",
       "    'id': [1, 1, 3],  # Дублирующийся id\n",
       "    'name': ['John123', 'Jane Smith', 'Bob Wilson'],  # Имя с цифрами\n",
       "    'age': [-1, 30, 200],  # Некорректный возраст\n",
       "    'email': ['invalid-email', 'jane@example.com', 'bob@example.com'],  # Некорректный email\n",
       "    'status': ['active', 'invalid', 'pending']  # Некорректный статус\n",
       "})"
      ]
     },
     {
      "cell_type": "markdown",
      "metadata": {},
      "source": [
       "## Создание и использование валидатора"
      ]
     },
     {
      "cell_type": "code",
      "execution_count": null,
      "metadata": {},
      "source": [
       "# Создание валидатора\n",
       "validator = SchemaValidator(schema)\n",
       "\n",
       "# Валидация корректных данных\n",
       "try:\n",
       "    validator.validate(valid_data)\n",
       "    print(\"Данные успешно валидированы\")\n",
       "except ValueError as e:\n",
       "    print(f\"Ошибка валидации: {e}\")\n",
       "\n",
       "# Валидация некорректных данных\n",
       "try:\n",
       "    validator.validate(invalid_data)\n",
       "except ValueError as e:\n",
       "    print(f\"Ошибка валидации: {e}\")"
      ]
     },
     {
      "cell_type": "markdown",
      "metadata": {},
      "source": [
       "## Валидация отдельных колонок"
      ]
     },
     {
      "cell_type": "code",
      "execution_count": null,
      "metadata": {},
      "source": [
       "# Проверка email\n",
       "try:\n",
       "    validator._validate_string(invalid_data['email'], schema.get_column_info('email'))\n",
       "except ValueError as e:\n",
       "    print(f\"Ошибка валидации email: {e}\")\n",
       "\n",
       "# Проверка возраста\n",
       "try:\n",
       "    validator._validate_integer(invalid_data['age'], schema.get_column_info('age'))\n",
       "except ValueError as e:\n",
       "    print(f\"Ошибка валидации возраста: {e}\")\n",
       "\n",
       "# Проверка статуса\n",
       "try:\n",
       "    validator._validate_categorical(invalid_data['status'], schema.get_column_info('status'))\n",
       "except ValueError as e:\n",
       "    print(f\"Ошибка валидации статуса: {e}\")"
      ]
     }
    ],
    "metadata": {
     "kernelspec": {
      "display_name": "Python 3",
      "language": "python",
      "name": "python3"
     },
     "language_info": {
      "codemirror_mode": {
       "name": "ipython",
       "version": 3
      },
      "file_extension": ".py",
      "mimetype": "text/x-python",
      "name": "python",
      "nbconvert_exporter": "python",
      "pygments_lexer": "ipython3",
      "version": "3.8.0"
     }
    },
    "nbformat": 4,
    "nbformat_minor": 4
   }


