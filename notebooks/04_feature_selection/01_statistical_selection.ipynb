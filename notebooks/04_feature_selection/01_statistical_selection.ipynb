{
    "cells": [
     {
      "cell_type": "markdown",
      "metadata": {},
      "source": [
       "# Статистические методы отбора признаков\n",
       "\n",
       "В этом ноутбуке мы рассмотрим статистические методы отбора признаков с помощью GPB библиотеки."
      ]
     },
     {
      "cell_type": "code",
      "execution_count": null,
      "metadata": {},
      "source": [
       "import pandas as pd\n",
       "import numpy as np\n",
       "from sklearn.datasets import make_classification\n",
       "from core.feature_selection import CorrelationFeatureSelector"
      ]
     },
     {
      "cell_type": "markdown",
      "metadata": {},
      "source": [
       "## Подготовка тестовых данных"
      ]
     },
     {
      "cell_type": "code",
      "execution_count": null,
      "metadata": {},
      "source": [
       "# Генерируем синтетические данные\n",
       "X, y = make_classification(\n",
       "    n_samples=1000,\n",
       "    n_features=20,\n",
       "    n_informative=5,\n",
       "    n_redundant=5,\n",
       "    random_state=42\n",
       ")\n",
       "\n",
       "# Создаем DataFrame\n",
       "feature_names = [f'feature_{i}' for i in range(X.shape[1])]\n",
       "df = pd.DataFrame(X, columns=feature_names)\n",
       "target = pd.Series(y, name='target')\n",
       "\n",
       "print('Размерность данных:', df.shape)"
      ]
     },
     {
      "cell_type": "markdown",
      "metadata": {},
      "source": [
       "## Отбор признаков по корреляции"
      ]
     },
     {
      "cell_type": "code",
      "execution_count": null,
      "metadata": {},
      "source": [
       "# Создаем селектор для отбора по корреляции\n",
       "correlation_selector = CorrelationFeatureSelector(\n",
       "    correlation_threshold=0.3,\n",
       "    blacklist=['target']\n",
       ")\n",
       "\n",
       "# Отбираем признаки\n",
       "df_selected = correlation_selector.fit_transform(df, target)\n",
       "\n",
       "print('Отобранные признаки:', correlation_selector.selected_features)\n",
       "print('Размерность после отбора:', df_selected.shape)"
      ]
     },
     {
      "cell_type": "markdown",
      "metadata": {},
      "source": [
       "## Сохранение селектора"
      ]
     },
     {
      "cell_type": "code",
      "execution_count": null,
      "metadata": {},
      "source": [
       "import joblib\n",
       "\n",
       "# Сохраняем селектор\n",
       "joblib.dump(correlation_selector, 'models/statistical_selector.pkl')\n",
       "print('Селектор сохранен в models/statistical_selector.pkl')"
      ]
     }
    ],
    "metadata": {
     "kernelspec": {
      "display_name": "Python 3",
      "language": "python",
      "name": "python3"
     }
    },
    "nbformat": 4,
    "nbformat_minor": 4
   } 