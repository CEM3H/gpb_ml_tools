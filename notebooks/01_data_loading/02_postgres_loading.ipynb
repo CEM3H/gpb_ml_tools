{
    "cells": [
     {
      "cell_type": "markdown",
      "metadata": {},
      "source": [
       "# Загрузка данных из PostgreSQL\n",
       "\n",
       "В этом ноутбуке мы рассмотрим загрузку данных из PostgreSQL с использованием GPB библиотеки.\n",
       "\n",
       "## Подготовка окружения"
      ]
     },
     {
      "cell_type": "code",
      "execution_count": null,
      "metadata": {},
      "source": [
       "import sys\n",
       "sys.path.append('../../')\n",
       "\n",
       "import pandas as pd\n",
       "import numpy as np\n",
       "from core.data.schema import DataSchema, ColumnSchema, DataType\n",
       "from core.data.data_loaders import PostgresDataLoader"
      ]
     },
     {
      "cell_type": "markdown",
      "metadata": {},
      "source": [
       "## Создание схемы данных"
      ]
     },
     {
      "cell_type": "code",
      "execution_count": null,
      "metadata": {},
      "source": [
       "# Создание схемы данных\n",
       "schema = DataSchema([\n",
       "    ColumnSchema(\n",
       "        name='id',\n",
       "        data_type=DataType.INTEGER,\n",
       "        required=True,\n",
       "        constraints={\n",
       "            'unique': True\n",
       "        }\n",
       "    ),\n",
       "    ColumnSchema(\n",
       "        name='name',\n",
       "        data_type=DataType.STRING,\n",
       "        required=True\n",
       "    ),\n",
       "    ColumnSchema(\n",
       "        name='age',\n",
       "        data_type=DataType.INTEGER,\n",
       "        required=True,\n",
       "        constraints={\n",
       "            'min': 0,\n",
       "            'max': 150\n",
       "        }\n",
       "    ),\n",
       "    ColumnSchema(\n",
       "        name='created_at',\n",
       "        data_type=DataType.DATETIME,\n",
       "        required=True\n",
       "    )\n",
       "])"
      ]
     },
     {
      "cell_type": "markdown",
      "metadata": {},
      "source": [
       "## Создание загрузчика данных"
      ]
     },
     {
      "cell_type": "code",
      "execution_count": null,
      "metadata": {},
      "source": [
       "# Создание загрузчика данных\n",
       "loader = PostgresDataLoader(\n",
       "    connection_params={\n",
       "        'host': 'localhost',\n",
       "        'port': 5432,\n",
       "        'database': 'mydb',\n",
       "        'user': 'myuser',\n",
       "        'password': 'mypassword',\n",
       "        'use_ssl': True\n",
       "    },\n",
       "    schema=schema\n",
       ")"
      ]
     },
     {
      "cell_type": "markdown",
      "metadata": {},
      "source": [
       "## Загрузка данных из таблицы"
      ]
     },
     {
      "cell_type": "code",
      "execution_count": null,
      "metadata": {},
      "source": [
       "# Загрузка всех данных из таблицы\n",
       "try:\n",
       "    df = loader.load_data(\"SELECT * FROM users\")\n",
       "    print(\"Данные успешно загружены из таблицы:\")\n",
       "    print(df)\n",
       "except Exception as e:\n",
       "    print(f\"Ошибка при загрузке данных: {e}\")"
      ]
     },
     {
      "cell_type": "markdown",
      "metadata": {},
      "source": [
       "## Загрузка данных с параметрами"
      ]
     },
     {
      "cell_type": "code",
      "execution_count": null,
      "metadata": {},
      "source": [
       "# Загрузка данных с параметрами\n",
       "query = \"\"\"\n",
       "    SELECT * FROM users\n",
       "    WHERE age > %(min_age)s\n",
       "    AND created_at > %(min_date)s\n",
       "\"\"\"\n",
       "\n",
       "params = {\n",
       "    'min_age': 18,\n",
       "    'min_date': '2023-01-01'\n",
       "}\n",
       "\n",
       "try:\n",
       "    df = loader.load_data(query, params=params)\n",
       "    print(\"Данные успешно загружены с параметрами:\")\n",
       "    print(df)\n",
       "except Exception as e:\n",
       "    print(f\"Ошибка при загрузке данных: {e}\")"
      ]
     },
     {
      "cell_type": "markdown",
      "metadata": {},
      "source": [
       "## Загрузка данных с JOIN"
      ]
     },
     {
      "cell_type": "code",
      "execution_count": null,
      "metadata": {},
      "source": [
       "# Загрузка данных с JOIN\n",
       "query = \"\"\"\n",
       "    SELECT u.*, o.order_id, o.amount\n",
       "    FROM users u\n",
       "    LEFT JOIN orders o ON u.id = o.user_id\n",
       "    WHERE u.age > %(min_age)s\n",
       "\"\"\"\n",
       "\n",
       "try:\n",
       "    df = loader.load_data(query, params={'min_age': 18})\n",
       "    print(\"Данные успешно загружены с JOIN:\")\n",
       "    print(df)\n",
       "except Exception as e:\n",
       "    print(f\"Ошибка при загрузке данных: {e}\")"
      ]
     },
     {
      "cell_type": "markdown",
      "metadata": {},
      "source": [
       "## Обработка ошибок"
      ]
     },
     {
      "cell_type": "code",
      "execution_count": null,
      "metadata": {},
      "source": [
       "# Пример обработки ошибок при загрузке\n",
       "try:\n",
       "    # Попытка подключения с неверными параметрами\n",
       "    loader = PostgresDataLoader(\n",
       "        connection_params={\n",
       "            'host': 'wrong_host',\n",
       "            'port': 5432,\n",
       "            'database': 'mydb',\n",
       "            'user': 'myuser',\n",
       "            'password': 'mypassword',\n",
       "            'use_ssl': True\n",
       "        },\n",
       "        schema=schema\n",
       "    )\n",
       "    df = loader.load_data(\"SELECT * FROM users\")\n",
       "except Exception as e:\n",
       "    print(f\"Ошибка подключения: {e}\")"
      ]
     }
    ],
    "metadata": {
     "kernelspec": {
      "display_name": "Python 3",
      "language": "python",
      "name": "python3"
     },
     "language_info": {
      "codemirror_mode": {
       "name": "ipython",
       "version": 3
      },
      "file_extension": ".py",
      "mimetype": "text/x-python",
      "name": "python",
      "nbconvert_exporter": "python",
      "pygments_lexer": "ipython3",
      "version": "3.8.0"
     }
    },
    "nbformat": 4,
    "nbformat_minor": 4
   }