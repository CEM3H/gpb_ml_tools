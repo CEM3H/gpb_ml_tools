{
 "cells": [
  {
   "cell_type": "markdown",
   "metadata": {},
   "source": [
    "# Загрузка данных из файлов\n",
    "\n",
    "В этом ноутбуке мы рассмотрим загрузку данных из различных файловых форматов (CSV, JSON, YAML) с использованием GPB библиотеки.\n",
    "\n",
    "## Подготовка окружения"
   ]
  },
  {
   "cell_type": "code",
   "execution_count": null,
   "metadata": {},
   "outputs": [],
   "source": [
    "import sys\n",
    "sys.path.append('../../')\n",
    "\n",
    "import pandas as pd\n",
    "import numpy as np\n",
    "from core.data.schema import DataSchema, ColumnSchema, DataType\n",
    "from core.data.data_loaders import FileDataLoader"
   ]
  },
  {
   "cell_type": "markdown",
   "metadata": {},
   "source": [
    "## Создание схемы данных"
   ]
  },
  {
   "cell_type": "code",
   "execution_count": null,
   "metadata": {},
   "outputs": [],
   "source": [
    "# Создание схемы данных\n",
    "schema = DataSchema([\n",
    "    ColumnSchema(\n",
    "        name='id',\n",
    "        data_type=DataType.INTEGER,\n",
    "        required=True,\n",
    "        constraints={\n",
    "            'unique': True\n",
    "        }\n",
    "    ),\n",
    "    ColumnSchema(\n",
    "        name='name',\n",
    "        data_type=DataType.STRING,\n",
    "        required=True\n",
    "    ),\n",
    "    ColumnSchema(\n",
    "        name='age',\n",
    "        data_type=DataType.INTEGER,\n",
    "        required=True,\n",
    "        constraints={\n",
    "            'min': 0,\n",
    "            'max': 150\n",
    "        }\n",
    "    ),\n",
    "    ColumnSchema(\n",
    "        name='email',\n",
    "        data_type=DataType.STRING,\n",
    "        required=True,\n",
    "        constraints={\n",
    "            'pattern': r'^[a-zA-Z0-9._%+-]+@[a-zA-Z0-9.-]+\\.[a-zA-Z]{2,}$'\n",
    "        }\n",
    "    )\n",
    "])"
   ]
  },
  {
   "cell_type": "markdown",
   "metadata": {},
   "source": [
    "## Загрузка данных из CSV файла"
   ]
  },
  {
   "cell_type": "code",
   "execution_count": null,
   "metadata": {},
   "outputs": [],
   "source": [
    "# Создание загрузчика данных\n",
    "loader = FileDataLoader(schema)\n",
    "\n",
    "# Загрузка данных из CSV\n",
    "try:\n",
    "    df = loader.load_data('data/users.csv')\n",
    "    print(\"Данные успешно загружены из CSV:\")\n",
    "    print(df)\n",
    "except Exception as e:\n",
    "    print(f\"Ошибка при загрузке CSV: {e}\")"
   ]
  },
  {
   "cell_type": "markdown",
   "metadata": {},
   "source": [
    "## Загрузка данных из JSON файла"
   ]
  },
  {
   "cell_type": "code",
   "execution_count": null,
   "metadata": {},
   "outputs": [],
   "source": [
    "# Загрузка данных из JSON\n",
    "try:\n",
    "    df = loader.load_data('data/users.json')\n",
    "    print(\"Данные успешно загружены из JSON:\")\n",
    "    print(df)\n",
    "except Exception as e:\n",
    "    print(f\"Ошибка при загрузке JSON: {e}\")"
   ]
  },
  {
   "cell_type": "markdown",
   "metadata": {},
   "source": [
    "## Загрузка данных из YAML файла"
   ]
  },
  {
   "cell_type": "code",
   "execution_count": null,
   "metadata": {},
   "outputs": [],
   "source": [
    "# Загрузка данных из YAML\n",
    "try:\n",
    "    df = loader.load_data('data/users.yaml')\n",
    "    print(\"Данные успешно загружены из YAML:\")\n",
    "    print(df)\n",
    "except Exception as e:\n",
    "    print(f\"Ошибка при загрузке YAML: {e}\")"
   ]
  },
  {
   "cell_type": "markdown",
   "metadata": {},
   "source": [
    "## Дополнительные параметры загрузки"
   ]
  },
  {
   "cell_type": "code",
   "execution_count": null,
   "metadata": {},
   "outputs": [],
   "source": [
    "# Загрузка CSV с дополнительными параметрами\n",
    "try:\n",
    "    df = loader.load_data(\n",
    "        'data/users.csv',\n",
    "        sep=';',  # Разделитель\n",
    "        encoding='utf-8',  # Кодировка\n",
    "        decimal=',',  # Разделитель десятичных знаков\n",
    "        thousands='.'  # Разделитель тысяч\n",
    "    )\n",
    "    print(\"Данные успешно загружены с дополнительными параметрами:\")\n",
    "    print(df)\n",
    "except Exception as e:\n",
    "    print(f\"Ошибка при загрузке: {e}\")"
   ]
  },
  {
   "cell_type": "markdown",
   "metadata": {},
   "source": [
    "## Обработка ошибок"
   ]
  },
  {
   "cell_type": "code",
   "execution_count": null,
   "metadata": {},
   "outputs": [],
   "source": [
    "# Пример обработки ошибок при загрузке\n",
    "try:\n",
    "    # Попытка загрузки несуществующего файла\n",
    "    df = loader.load_data('data/nonexistent.csv')\n",
    "except FileNotFoundError:\n",
    "    print(\"Файл не найден\")\n",
    "except ValueError as e:\n",
    "    print(f\"Ошибка валидации данных: {e}\")\n",
    "except Exception as e:\n",
    "    print(f\"Неожиданная ошибка: {e}\")"
   ]
  }
 ],
 "metadata": {
  "kernelspec": {
   "display_name": "Python 3",
   "language": "python",
   "name": "python3"
  }
 },
 "nbformat": 4,
 "nbformat_minor": 4
}
